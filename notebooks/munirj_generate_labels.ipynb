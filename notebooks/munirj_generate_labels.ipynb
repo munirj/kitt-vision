{
 "cells": [
  {
   "cell_type": "code",
   "execution_count": 1,
   "id": "9c405036",
   "metadata": {},
   "outputs": [],
   "source": [
    "import os\n",
    "import json"
   ]
  },
  {
   "cell_type": "code",
   "execution_count": 2,
   "id": "38b33499",
   "metadata": {},
   "outputs": [
    {
     "data": {
      "text/plain": [
       "'C:\\\\Users\\\\m00nm\\\\Projects\\\\Computer vision\\\\Data\\\\bdd100k\\\\labels\\\\bdd100k_labels_images_train.json'"
      ]
     },
     "execution_count": 2,
     "metadata": {},
     "output_type": "execute_result"
    }
   ],
   "source": [
    "path = os.getcwd()\n",
    "parent = os.path.dirname(os.path.dirname(path))\n",
    "image_dir = os.path.join(parent, \"Projects\\\\datasets\\\\bdd_test\\\\images\\\\train\")\n",
    "target = os.path.join(parent, \"Projects\\\\Computer vision\\\\Data\\\\bdd100k\\\\labels\", \"bdd100k_labels_images_train.json\")\n",
    "target"
   ]
  },
  {
   "cell_type": "code",
   "execution_count": 4,
   "id": "ef6b18dd",
   "metadata": {},
   "outputs": [
    {
     "data": {
      "text/plain": [
       "200"
      ]
     },
     "execution_count": 4,
     "metadata": {},
     "output_type": "execute_result"
    }
   ],
   "source": [
    "image_list = os.listdir(image_dir)\n",
    "len(image_list)"
   ]
  },
  {
   "cell_type": "code",
   "execution_count": 5,
   "id": "145baeaa",
   "metadata": {},
   "outputs": [],
   "source": [
    "textpath='C:\\\\Users\\\\m00nm\\\\Projects\\\\datasets\\\\bdd_test\\\\labels\\\\train'\n",
    "categorys = ['car', 'traffic light', 'traffic sign', 'person', 'bus', 'bike']"
   ]
  },
  {
   "cell_type": "code",
   "execution_count": 6,
   "id": "322b8c63",
   "metadata": {},
   "outputs": [],
   "source": [
    "with open(target) as f:\n",
    "    of = json.load(f)"
   ]
  },
  {
   "cell_type": "code",
   "execution_count": 7,
   "id": "d98ffc62",
   "metadata": {},
   "outputs": [],
   "source": [
    "for image in of:\n",
    "    info = image['labels']\n",
    "    name = image['name']\n",
    "    if name in image_list:\n",
    "        Jname, suffix = os.path.splitext(name)\n",
    "        txtname = textpath + \"\\\\\" + Jname +'.txt'\n",
    "        JsonTxt = open(txtname, 'a')\n",
    "        for image_index in range(0, len(info)):\n",
    "            strs = \"\"\n",
    "            image = info[image_index]\n",
    "\n",
    "            if image[\"category\"]in categorys:\n",
    "                dw = 1.0 /1280\n",
    "                dh = 1.0/ 720\n",
    "                strs += str(categorys.index(image[\"category\"]))\n",
    "                strs += \" \"\n",
    "                strs += str (((image[\"box2d\"][\"x1\"]+ image[\"box2d\"][\"x2\"])/2.0)*dw)\n",
    "                strs += \" \"\n",
    "                strs += str (((image[\"box2d\"][\"y1\"]+ image[\"box2d\"][\"y2\"])/2.0)*dh)\n",
    "                strs += \" \"\n",
    "                strs += str (((image[\"box2d\"][\"x2\"]- image[\"box2d\"][\"x1\"]))*dw)\n",
    "                strs += \" \"\n",
    "                strs += str (((image[\"box2d\"][\"y2\"]- image[\"box2d\"][\"y1\"]))*dh)\n",
    "                strs += \"\\n\"\n",
    "                JsonTxt.writelines(strs)\n",
    "        JsonTxt.close()"
   ]
  },
  {
   "cell_type": "code",
   "execution_count": null,
   "id": "c3ae0f84",
   "metadata": {},
   "outputs": [],
   "source": [
    "name = '00c87627-b7f6f46c.jpg'\n",
    "\n",
    "for i, image in enumerate(of):\n",
    "    if image['name'] == name:\n",
    "        print(i)"
   ]
  },
  {
   "cell_type": "code",
   "execution_count": null,
   "id": "46addc00",
   "metadata": {},
   "outputs": [],
   "source": [
    "label_file = name.strip('.jpg') + '.txt'\n",
    "file = image_dir+\"\\\\\"+label_file\n",
    "print(file)"
   ]
  },
  {
   "cell_type": "code",
   "execution_count": null,
   "id": "f804339c",
   "metadata": {},
   "outputs": [],
   "source": [
    "with open(file, 'r') as f:\n",
    "    for obj in f:\n",
    "        print(obj[0])"
   ]
  },
  {
   "cell_type": "code",
   "execution_count": null,
   "id": "6d0ba3dd",
   "metadata": {},
   "outputs": [],
   "source": [
    "of[289]"
   ]
  },
  {
   "cell_type": "code",
   "execution_count": null,
   "id": "a0b825ea",
   "metadata": {},
   "outputs": [],
   "source": [
    "for obj in of[290]['labels']:\n",
    "    print(obj['category'])"
   ]
  },
  {
   "cell_type": "code",
   "execution_count": null,
   "id": "ac7634d1",
   "metadata": {},
   "outputs": [],
   "source": [
    "of[290]['name']"
   ]
  },
  {
   "cell_type": "code",
   "execution_count": null,
   "id": "4033cef3",
   "metadata": {},
   "outputs": [],
   "source": []
  }
 ],
 "metadata": {
  "kernelspec": {
   "display_name": "Python 3",
   "language": "python",
   "name": "python3"
  },
  "language_info": {
   "codemirror_mode": {
    "name": "ipython",
    "version": 3
   },
   "file_extension": ".py",
   "mimetype": "text/x-python",
   "name": "python",
   "nbconvert_exporter": "python",
   "pygments_lexer": "ipython3",
   "version": "3.8.8"
  }
 },
 "nbformat": 4,
 "nbformat_minor": 5
}
